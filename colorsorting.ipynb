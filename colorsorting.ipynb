{
  "nbformat": 4,
  "nbformat_minor": 0,
  "metadata": {
    "colab": {
      "provenance": []
    },
    "kernelspec": {
      "name": "python3",
      "display_name": "Python 3"
    },
    "language_info": {
      "name": "python"
    }
  },
  "cells": [
    {
      "cell_type": "code",
      "execution_count": 3,
      "metadata": {
        "colab": {
          "base_uri": "https://localhost:8080/",
          "height": 407
        },
        "id": "83vjGd6WTuRE",
        "outputId": "9f95fbad-55e3-4b25-bf49-dc665670d311"
      },
      "outputs": [
        {
          "output_type": "stream",
          "name": "stdout",
          "text": [
            "Drive already mounted at /content/drive; to attempt to forcibly remount, call drive.mount(\"/content/drive\", force_remount=True).\n"
          ]
        },
        {
          "output_type": "error",
          "ename": "FileNotFoundError",
          "evalue": "[Errno 2] No such file or directory: '/content/drive/My Drive/colors.csv'",
          "traceback": [
            "\u001b[0;31m---------------------------------------------------------------------------\u001b[0m",
            "\u001b[0;31mFileNotFoundError\u001b[0m                         Traceback (most recent call last)",
            "\u001b[0;32m<ipython-input-3-963ea2d83232>\u001b[0m in \u001b[0;36m<cell line: 21>\u001b[0;34m()\u001b[0m\n\u001b[1;32m     19\u001b[0m \u001b[0mindex\u001b[0m \u001b[0;34m=\u001b[0m \u001b[0;34m[\u001b[0m\u001b[0;34m\"color\"\u001b[0m\u001b[0;34m,\u001b[0m \u001b[0;34m\"color_name\"\u001b[0m\u001b[0;34m,\u001b[0m \u001b[0;34m\"hex\"\u001b[0m\u001b[0;34m,\u001b[0m \u001b[0;34m\"R\"\u001b[0m\u001b[0;34m,\u001b[0m \u001b[0;34m\"G\"\u001b[0m\u001b[0;34m,\u001b[0m \u001b[0;34m\"B\"\u001b[0m\u001b[0;34m]\u001b[0m\u001b[0;34m\u001b[0m\u001b[0;34m\u001b[0m\u001b[0m\n\u001b[1;32m     20\u001b[0m \u001b[0;31m# Load the CSV file into a DataFrame\u001b[0m\u001b[0;34m\u001b[0m\u001b[0;34m\u001b[0m\u001b[0m\n\u001b[0;32m---> 21\u001b[0;31m \u001b[0mcsv\u001b[0m \u001b[0;34m=\u001b[0m \u001b[0mpd\u001b[0m\u001b[0;34m.\u001b[0m\u001b[0mread_csv\u001b[0m\u001b[0;34m(\u001b[0m\u001b[0mcsv_path\u001b[0m\u001b[0;34m,\u001b[0m \u001b[0mnames\u001b[0m\u001b[0;34m=\u001b[0m\u001b[0mindex\u001b[0m\u001b[0;34m,\u001b[0m \u001b[0mheader\u001b[0m\u001b[0;34m=\u001b[0m\u001b[0;32mNone\u001b[0m\u001b[0;34m)\u001b[0m\u001b[0;34m\u001b[0m\u001b[0;34m\u001b[0m\u001b[0m\n\u001b[0m\u001b[1;32m     22\u001b[0m \u001b[0mimg\u001b[0m \u001b[0;34m=\u001b[0m \u001b[0mcv2\u001b[0m\u001b[0;34m.\u001b[0m\u001b[0mimread\u001b[0m\u001b[0;34m(\u001b[0m\u001b[0mimg_path\u001b[0m\u001b[0;34m)\u001b[0m\u001b[0;34m\u001b[0m\u001b[0;34m\u001b[0m\u001b[0m\n\u001b[1;32m     23\u001b[0m \u001b[0;34m\u001b[0m\u001b[0m\n",
            "\u001b[0;32m/usr/local/lib/python3.10/dist-packages/pandas/util/_decorators.py\u001b[0m in \u001b[0;36mwrapper\u001b[0;34m(*args, **kwargs)\u001b[0m\n\u001b[1;32m    209\u001b[0m                 \u001b[0;32melse\u001b[0m\u001b[0;34m:\u001b[0m\u001b[0;34m\u001b[0m\u001b[0;34m\u001b[0m\u001b[0m\n\u001b[1;32m    210\u001b[0m                     \u001b[0mkwargs\u001b[0m\u001b[0;34m[\u001b[0m\u001b[0mnew_arg_name\u001b[0m\u001b[0;34m]\u001b[0m \u001b[0;34m=\u001b[0m \u001b[0mnew_arg_value\u001b[0m\u001b[0;34m\u001b[0m\u001b[0;34m\u001b[0m\u001b[0m\n\u001b[0;32m--> 211\u001b[0;31m             \u001b[0;32mreturn\u001b[0m \u001b[0mfunc\u001b[0m\u001b[0;34m(\u001b[0m\u001b[0;34m*\u001b[0m\u001b[0margs\u001b[0m\u001b[0;34m,\u001b[0m \u001b[0;34m**\u001b[0m\u001b[0mkwargs\u001b[0m\u001b[0;34m)\u001b[0m\u001b[0;34m\u001b[0m\u001b[0;34m\u001b[0m\u001b[0m\n\u001b[0m\u001b[1;32m    212\u001b[0m \u001b[0;34m\u001b[0m\u001b[0m\n\u001b[1;32m    213\u001b[0m         \u001b[0;32mreturn\u001b[0m \u001b[0mcast\u001b[0m\u001b[0;34m(\u001b[0m\u001b[0mF\u001b[0m\u001b[0;34m,\u001b[0m \u001b[0mwrapper\u001b[0m\u001b[0;34m)\u001b[0m\u001b[0;34m\u001b[0m\u001b[0;34m\u001b[0m\u001b[0m\n",
            "\u001b[0;32m/usr/local/lib/python3.10/dist-packages/pandas/util/_decorators.py\u001b[0m in \u001b[0;36mwrapper\u001b[0;34m(*args, **kwargs)\u001b[0m\n\u001b[1;32m    329\u001b[0m                     \u001b[0mstacklevel\u001b[0m\u001b[0;34m=\u001b[0m\u001b[0mfind_stack_level\u001b[0m\u001b[0;34m(\u001b[0m\u001b[0;34m)\u001b[0m\u001b[0;34m,\u001b[0m\u001b[0;34m\u001b[0m\u001b[0;34m\u001b[0m\u001b[0m\n\u001b[1;32m    330\u001b[0m                 )\n\u001b[0;32m--> 331\u001b[0;31m             \u001b[0;32mreturn\u001b[0m \u001b[0mfunc\u001b[0m\u001b[0;34m(\u001b[0m\u001b[0;34m*\u001b[0m\u001b[0margs\u001b[0m\u001b[0;34m,\u001b[0m \u001b[0;34m**\u001b[0m\u001b[0mkwargs\u001b[0m\u001b[0;34m)\u001b[0m\u001b[0;34m\u001b[0m\u001b[0;34m\u001b[0m\u001b[0m\n\u001b[0m\u001b[1;32m    332\u001b[0m \u001b[0;34m\u001b[0m\u001b[0m\n\u001b[1;32m    333\u001b[0m         \u001b[0;31m# error: \"Callable[[VarArg(Any), KwArg(Any)], Any]\" has no\u001b[0m\u001b[0;34m\u001b[0m\u001b[0;34m\u001b[0m\u001b[0m\n",
            "\u001b[0;32m/usr/local/lib/python3.10/dist-packages/pandas/io/parsers/readers.py\u001b[0m in \u001b[0;36mread_csv\u001b[0;34m(filepath_or_buffer, sep, delimiter, header, names, index_col, usecols, squeeze, prefix, mangle_dupe_cols, dtype, engine, converters, true_values, false_values, skipinitialspace, skiprows, skipfooter, nrows, na_values, keep_default_na, na_filter, verbose, skip_blank_lines, parse_dates, infer_datetime_format, keep_date_col, date_parser, dayfirst, cache_dates, iterator, chunksize, compression, thousands, decimal, lineterminator, quotechar, quoting, doublequote, escapechar, comment, encoding, encoding_errors, dialect, error_bad_lines, warn_bad_lines, on_bad_lines, delim_whitespace, low_memory, memory_map, float_precision, storage_options)\u001b[0m\n\u001b[1;32m    948\u001b[0m     \u001b[0mkwds\u001b[0m\u001b[0;34m.\u001b[0m\u001b[0mupdate\u001b[0m\u001b[0;34m(\u001b[0m\u001b[0mkwds_defaults\u001b[0m\u001b[0;34m)\u001b[0m\u001b[0;34m\u001b[0m\u001b[0;34m\u001b[0m\u001b[0m\n\u001b[1;32m    949\u001b[0m \u001b[0;34m\u001b[0m\u001b[0m\n\u001b[0;32m--> 950\u001b[0;31m     \u001b[0;32mreturn\u001b[0m \u001b[0m_read\u001b[0m\u001b[0;34m(\u001b[0m\u001b[0mfilepath_or_buffer\u001b[0m\u001b[0;34m,\u001b[0m \u001b[0mkwds\u001b[0m\u001b[0;34m)\u001b[0m\u001b[0;34m\u001b[0m\u001b[0;34m\u001b[0m\u001b[0m\n\u001b[0m\u001b[1;32m    951\u001b[0m \u001b[0;34m\u001b[0m\u001b[0m\n\u001b[1;32m    952\u001b[0m \u001b[0;34m\u001b[0m\u001b[0m\n",
            "\u001b[0;32m/usr/local/lib/python3.10/dist-packages/pandas/io/parsers/readers.py\u001b[0m in \u001b[0;36m_read\u001b[0;34m(filepath_or_buffer, kwds)\u001b[0m\n\u001b[1;32m    603\u001b[0m \u001b[0;34m\u001b[0m\u001b[0m\n\u001b[1;32m    604\u001b[0m     \u001b[0;31m# Create the parser.\u001b[0m\u001b[0;34m\u001b[0m\u001b[0;34m\u001b[0m\u001b[0m\n\u001b[0;32m--> 605\u001b[0;31m     \u001b[0mparser\u001b[0m \u001b[0;34m=\u001b[0m \u001b[0mTextFileReader\u001b[0m\u001b[0;34m(\u001b[0m\u001b[0mfilepath_or_buffer\u001b[0m\u001b[0;34m,\u001b[0m \u001b[0;34m**\u001b[0m\u001b[0mkwds\u001b[0m\u001b[0;34m)\u001b[0m\u001b[0;34m\u001b[0m\u001b[0;34m\u001b[0m\u001b[0m\n\u001b[0m\u001b[1;32m    606\u001b[0m \u001b[0;34m\u001b[0m\u001b[0m\n\u001b[1;32m    607\u001b[0m     \u001b[0;32mif\u001b[0m \u001b[0mchunksize\u001b[0m \u001b[0;32mor\u001b[0m \u001b[0miterator\u001b[0m\u001b[0;34m:\u001b[0m\u001b[0;34m\u001b[0m\u001b[0;34m\u001b[0m\u001b[0m\n",
            "\u001b[0;32m/usr/local/lib/python3.10/dist-packages/pandas/io/parsers/readers.py\u001b[0m in \u001b[0;36m__init__\u001b[0;34m(self, f, engine, **kwds)\u001b[0m\n\u001b[1;32m   1440\u001b[0m \u001b[0;34m\u001b[0m\u001b[0m\n\u001b[1;32m   1441\u001b[0m         \u001b[0mself\u001b[0m\u001b[0;34m.\u001b[0m\u001b[0mhandles\u001b[0m\u001b[0;34m:\u001b[0m \u001b[0mIOHandles\u001b[0m \u001b[0;34m|\u001b[0m \u001b[0;32mNone\u001b[0m \u001b[0;34m=\u001b[0m \u001b[0;32mNone\u001b[0m\u001b[0;34m\u001b[0m\u001b[0;34m\u001b[0m\u001b[0m\n\u001b[0;32m-> 1442\u001b[0;31m         \u001b[0mself\u001b[0m\u001b[0;34m.\u001b[0m\u001b[0m_engine\u001b[0m \u001b[0;34m=\u001b[0m \u001b[0mself\u001b[0m\u001b[0;34m.\u001b[0m\u001b[0m_make_engine\u001b[0m\u001b[0;34m(\u001b[0m\u001b[0mf\u001b[0m\u001b[0;34m,\u001b[0m \u001b[0mself\u001b[0m\u001b[0;34m.\u001b[0m\u001b[0mengine\u001b[0m\u001b[0;34m)\u001b[0m\u001b[0;34m\u001b[0m\u001b[0;34m\u001b[0m\u001b[0m\n\u001b[0m\u001b[1;32m   1443\u001b[0m \u001b[0;34m\u001b[0m\u001b[0m\n\u001b[1;32m   1444\u001b[0m     \u001b[0;32mdef\u001b[0m \u001b[0mclose\u001b[0m\u001b[0;34m(\u001b[0m\u001b[0mself\u001b[0m\u001b[0;34m)\u001b[0m \u001b[0;34m->\u001b[0m \u001b[0;32mNone\u001b[0m\u001b[0;34m:\u001b[0m\u001b[0;34m\u001b[0m\u001b[0;34m\u001b[0m\u001b[0m\n",
            "\u001b[0;32m/usr/local/lib/python3.10/dist-packages/pandas/io/parsers/readers.py\u001b[0m in \u001b[0;36m_make_engine\u001b[0;34m(self, f, engine)\u001b[0m\n\u001b[1;32m   1733\u001b[0m                 \u001b[0;32mif\u001b[0m \u001b[0;34m\"b\"\u001b[0m \u001b[0;32mnot\u001b[0m \u001b[0;32min\u001b[0m \u001b[0mmode\u001b[0m\u001b[0;34m:\u001b[0m\u001b[0;34m\u001b[0m\u001b[0;34m\u001b[0m\u001b[0m\n\u001b[1;32m   1734\u001b[0m                     \u001b[0mmode\u001b[0m \u001b[0;34m+=\u001b[0m \u001b[0;34m\"b\"\u001b[0m\u001b[0;34m\u001b[0m\u001b[0;34m\u001b[0m\u001b[0m\n\u001b[0;32m-> 1735\u001b[0;31m             self.handles = get_handle(\n\u001b[0m\u001b[1;32m   1736\u001b[0m                 \u001b[0mf\u001b[0m\u001b[0;34m,\u001b[0m\u001b[0;34m\u001b[0m\u001b[0;34m\u001b[0m\u001b[0m\n\u001b[1;32m   1737\u001b[0m                 \u001b[0mmode\u001b[0m\u001b[0;34m,\u001b[0m\u001b[0;34m\u001b[0m\u001b[0;34m\u001b[0m\u001b[0m\n",
            "\u001b[0;32m/usr/local/lib/python3.10/dist-packages/pandas/io/common.py\u001b[0m in \u001b[0;36mget_handle\u001b[0;34m(path_or_buf, mode, encoding, compression, memory_map, is_text, errors, storage_options)\u001b[0m\n\u001b[1;32m    854\u001b[0m         \u001b[0;32mif\u001b[0m \u001b[0mioargs\u001b[0m\u001b[0;34m.\u001b[0m\u001b[0mencoding\u001b[0m \u001b[0;32mand\u001b[0m \u001b[0;34m\"b\"\u001b[0m \u001b[0;32mnot\u001b[0m \u001b[0;32min\u001b[0m \u001b[0mioargs\u001b[0m\u001b[0;34m.\u001b[0m\u001b[0mmode\u001b[0m\u001b[0;34m:\u001b[0m\u001b[0;34m\u001b[0m\u001b[0;34m\u001b[0m\u001b[0m\n\u001b[1;32m    855\u001b[0m             \u001b[0;31m# Encoding\u001b[0m\u001b[0;34m\u001b[0m\u001b[0;34m\u001b[0m\u001b[0m\n\u001b[0;32m--> 856\u001b[0;31m             handle = open(\n\u001b[0m\u001b[1;32m    857\u001b[0m                 \u001b[0mhandle\u001b[0m\u001b[0;34m,\u001b[0m\u001b[0;34m\u001b[0m\u001b[0;34m\u001b[0m\u001b[0m\n\u001b[1;32m    858\u001b[0m                 \u001b[0mioargs\u001b[0m\u001b[0;34m.\u001b[0m\u001b[0mmode\u001b[0m\u001b[0;34m,\u001b[0m\u001b[0;34m\u001b[0m\u001b[0;34m\u001b[0m\u001b[0m\n",
            "\u001b[0;31mFileNotFoundError\u001b[0m: [Errno 2] No such file or directory: '/content/drive/My Drive/colors.csv'"
          ]
        }
      ],
      "source": [
        "import cv2\n",
        "import pandas as pd\n",
        "from google.colab import files\n",
        "from IPython.display import display, Image\n",
        "import numpy as np\n",
        "from PIL import Image as PILImage\n",
        "from google.colab import drive\n",
        "\n",
        "# Connect Google Drive to Google Colab for file access and storage\n",
        "from google.colab import drive\n",
        "drive.mount('/content/drive')\n",
        "\n",
        "# Path to the CSV file in Google Drive\n",
        "csv_path = '/content/drive/My Drive/colors.csv'\n",
        "# Path to the image file in Google Drive\n",
        "img_path = '/content/drive/My Drive/colorpic.jpeg'\n",
        "\n",
        "# Define the names for the columns to use in the DataFrame\n",
        "index = [\"color\", \"color_name\", \"hex\", \"R\", \"G\", \"B\"]\n",
        "# Load the CSV file into a DataFrame\n",
        "csv = pd.read_csv(csv_path, names=index, header=None)\n",
        "img = cv2.imread(img_path)\n",
        "\n"
      ]
    },
    {
      "cell_type": "code",
      "source": [
        "# Verify if the image is loaded properly\n",
        "from PIL import Image\n",
        "\n",
        "try:\n",
        "    # Attempt to open the image file\n",
        "\n",
        "    print(\"Image loaded successfully.\")\n",
        "except IOError:\n",
        "    # This exception handles cases where the image file couldn't be opened\n",
        "    print(\"Error: Could not load image. Check the path.\")\n"
      ],
      "metadata": {
        "colab": {
          "base_uri": "https://localhost:8080/"
        },
        "id": "d1U-OEopae66",
        "outputId": "8311676c-50d4-4c24-ede9-04326c3f5dd3"
      },
      "execution_count": null,
      "outputs": [
        {
          "output_type": "stream",
          "name": "stdout",
          "text": [
            "Image loaded successfully.\n"
          ]
        }
      ]
    },
    {
      "cell_type": "code",
      "source": [
        "# Function to calculate minimum distance from all colors and get the most matching color\n",
        "def get_color_name(R, G, B):\n",
        "    minimum = 10000\n",
        "    colorname = \"\"\n",
        "    for i in range(len(csv)):\n",
        "        d = abs(R - int(csv.loc[i, \"R\"])) + abs(G - int(csv.loc[i, \"G\"])) + abs(B - int(csv.loc[i, \"B\"]))\n",
        "        if d <= minimum:\n",
        "            minimum = d\n",
        "            colorname = csv.loc[i, \"color_name\"]\n",
        "    return colorname\n",
        "\n",
        "# Function to show the image with the selected color area\n",
        "def show_selected_color(x, y):\n",
        "    b, g, r = img[y, x]\n",
        "    selected_color = np.zeros((100, 100, 3), np.uint8)\n",
        "    selected_color[:] = [b, g, r]\n",
        "    text = get_color_name(r, g, b)\n",
        "    print(f\"Selected Color: {text} - RGB: ({r}, {g}, {b})\")\n",
        "    # Convert color space from BGR to RGB for displaying\n",
        "    selected_color = cv2.cvtColor(selected_color, cv2.COLOR_BGR2RGB)\n",
        "    pil_img = PILImage.fromarray(selected_color)\n",
        "    display(pil_img)\n",
        "\n",
        "# Example manual input\n",
        "x = 110 # Replace with your x coordinate\n",
        "y = 50 # Replace with your y coordinate\n",
        "show_selected_color(x, y)\n"
      ],
      "metadata": {
        "colab": {
          "base_uri": "https://localhost:8080/",
          "height": 134
        },
        "id": "ORCbKTRVVk9Y",
        "outputId": "dc370ebc-3618-48f5-aafe-abae1d741f84"
      },
      "execution_count": null,
      "outputs": [
        {
          "output_type": "stream",
          "name": "stdout",
          "text": [
            "Selected Color: Wild Blue Yonder - RGB: (161, 173, 185)\n"
          ]
        },
        {
          "output_type": "display_data",
          "data": {
            "text/plain": [
              "<PIL.Image.Image image mode=RGB size=100x100>"
            ],
            "image/png": "[encoded data removed]"
          },
          "metadata": {}
        }
      ]
    },
    {
      "cell_type": "code",
      "source": [
        "import cv2\n",
        "import pandas as pd\n",
        "import numpy as np\n",
        "import json\n",
        "import re\n",
        "from PIL import Image as PILImage\n",
        "from IPython.display import display\n",
        "from google.colab import drive\n",
        "\n",
        "\n",
        "# Mount Google Drive\n",
        "drive.mount('/content/drive')\n",
        "\n",
        "# Path to the CSV file in Google Drive\n",
        "csv_path = '/content/drive/My Drive/colors.csv'\n",
        "# Path to the image file in Google Drive\n",
        "img_path = '/content/drive/My Drive/colorpic.jpeg'\n",
        "\n",
        "# Load the CSV file into a DataFrame\n",
        "index = [\"color\", \"color_name\", \"hex\", \"R\", \"G\", \"B\"]\n",
        "csv = pd.read_csv(csv_path, names=index, header=None)\n",
        "\n",
        "\n",
        "# Read the image\n",
        "img = cv2.imread(img_path)\n",
        "# Read the Json file\n",
        "\n",
        "\n",
        "\n",
        "\n",
        "\n",
        "# # Path to your JSON file\n",
        "# json_path = '/content/drive/My Drive/Colab Notebooks/colors2.json'\n",
        "\n",
        "# # Load the JSON file\n",
        "# with open(json_path) as json_file:\n",
        "# data = json.load(json_file)\n",
        "\n",
        "# # Use your JSON data\n",
        "# print(data)\n",
        "\n",
        "# Helper functions to parse color data\n"
      ],
      "metadata": {
        "id": "Hou-Y3pgWQoM",
        "colab": {
          "base_uri": "https://localhost:8080/"
        },
        "outputId": "6dbf0756-51ed-4f69-b999-5be0002ec13a"
      },
      "execution_count": null,
      "outputs": [
        {
          "output_type": "stream",
          "name": "stdout",
          "text": [
            "Drive already mounted at /content/drive; to attempt to forcibly remount, call drive.mount(\"/content/drive\", force_remount=True).\n"
          ]
        }
      ]
    },
    {
      "cell_type": "code",
      "source": [
        "print(color_data_string)"
      ],
      "metadata": {
        "colab": {
          "base_uri": "https://localhost:8080/"
        },
        "id": "LneYtCNe1yxn",
        "outputId": "09d026b0-081b-4275-8e39-3ca806276474"
      },
      "execution_count": null,
      "outputs": [
        {
          "output_type": "stream",
          "name": "stdout",
          "text": [
            "\n",
            "  Color Name 1  #FFFFFF\n",
            "  Color Name 2  #000000\n",
            "\n"
          ]
        }
      ]
    },
    {
      "cell_type": "code",
      "source": [
        "def split_line(line):\n",
        "    fields = line.split('\\t')\n",
        "    if not fields:\n",
        "        raise ValueError(f\"Empty line encountered: {line}\")\n",
        "    return make_identifier(fields[0]), fields[0], simplify_hex_color(fields[1]), hex_to_rgb_triplet(fields[1])"
      ],
      "metadata": {
        "id": "qGie_-pv2JXL"
      },
      "execution_count": null,
      "outputs": []
    },
    {
      "cell_type": "code",
      "source": [
        "def split_line(line):\n",
        "    fields = line.split('\\t')\n",
        "\n",
        "    # Check if fields has at least 2 elements before accessing them\n",
        "    if len(fields) >= 2:\n",
        "        return make_identifier(fields[0]), fields[0], simplify_hex_color(fields[1]), hex_to_rgb_triplet(fields[1])\n",
        "    else:\n",
        "        # Handle the case where fields doesn't have enough elements\n",
        "        print(f\"Error: Insufficient fields in line - {line}\")\n",
        "        return None  # You can choose to return a default value or handle it as needed\n"
      ],
      "metadata": {
        "id": "nW5i9ydf2t_F"
      },
      "execution_count": null,
      "outputs": []
    },
    {
      "cell_type": "code",
      "source": [
        "import cv2\n",
        "import pandas as pd\n",
        "import numpy as np\n",
        "import json\n",
        "import re\n",
        "from PIL import Image as PILImage\n",
        "# from google.colab import drive  # This line should be uncommented only in Google Colab\n",
        "from google.colab import drive\n",
        "drive.mount('/content/drive')\n",
        "\n",
        "# Path to the CSV file in Google Drive\n",
        "csv_path = '/content/drive/My Drive/Colab Notebooks/colors.csv'\n",
        "# Path to the image file in Google Drive\n",
        "img_path = '/content/drive/My Drive/Colab Notebooks/colorpic.jpeg'\n",
        "# Path to the JSON file in Google Drive\n",
        "json_path = '/content/drive/My Drive/Colab Notebooks/newcolors.json'\n",
        "\n",
        "# Load the CSV file into a DataFrame\n",
        "index = [\"color\", \"color_name\", \"hex\", \"R\", \"G\", \"B\"]\n",
        "csv = pd.read_csv(csv_path, names=index, header=None)\n",
        "\n",
        "# Read the image\n",
        "img = cv2.imread(img_path)\n",
        "\n",
        "# Load the JSON file\n",
        "data = {}\n",
        "with open(json_path) as json_file:\n",
        "    data = json.load(json_file)\n",
        "\n",
        "# Helper functions to parse color data\n",
        "# ... (Keep your existing helper functions here)\n",
        "\n",
        "# Function to calculate minimum distance from all colors and get the most matching color\n",
        "def get_color_name(R, G, B):\n",
        "    minimum = 10000\n",
        "    colorname = \"\"\n",
        "    for i in range(len(csv)):\n",
        "        d = abs(R - int(csv.loc[i, \"R\"])) + abs(G - int(csv.loc[i, \"G\"])) + abs(B - int(csv.loc[i, \"B\"]))\n",
        "        if d <= minimum:\n",
        "            minimum = d\n",
        "            colorname = csv.loc[i, \"color_name\"]\n",
        "    return colorname\n",
        "\n",
        "# Function to show the image with the selected color area\n",
        "def show_selected_color(x, y):\n",
        "    b, g, r = img[y, x]\n",
        "    selected_color = np.zeros((100, 100, 3), np.uint8)\n",
        "    selected_color[:] = [b, g, r]\n",
        "    text = get_color_name(r, g, b)\n",
        "    print(f\"Selected Color: {text} - RGB: ({r}, {g}, {b})\")\n",
        "    # Convert color space from BGR to RGB for displaying\n",
        "    selected_color = cv2.cvtColor(selected_color, cv2.COLOR_BGR2RGB)\n",
        "    pil_img = PILImage.fromarray(selected_color)\n",
        "    pil_img.show()  # Changed from display() to show() for non-Colab environments\n",
        "\n",
        "# Example usage\n",
        "x = 50  # Replace with your x coordinate\n",
        "y = 50  # Replace with your y coordinate\n",
        "show_selected_color(x, y)\n",
        "\n",
        "# Example of parsing color data from a string\n",
        "import json\n",
        "\n",
        "def parse_colors_from_string(color_data_str):\n",
        "    \"\"\"\n",
        "    Parses a string containing color names and their corresponding hex values,\n",
        "    separated by tabs, into a dictionary.\n",
        "    \"\"\"\n",
        "    color_dict = {}\n",
        "    # Split the string into lines\n",
        "    lines = color_data_str.strip().split('\\n')\n",
        "    for line in lines:\n",
        "        # Split each line by tab to separate the color name from its hex value\n",
        "        parts = line.split('\\t')\n",
        "        if len(parts) == 2:\n",
        "            color_name, hex_value = parts\n",
        "            color_dict[color_name.strip()] = hex_value.strip()\n",
        "    return color_dict\n",
        "\n",
        "def to_json(data):\n",
        "    \"\"\"\n",
        "    Converts a dictionary to a JSON string.\n",
        "    \"\"\"\n",
        "    return json.dumps(data, indent=4)\n",
        "\n",
        "# Now, use the defined functions with your color_data_string\n",
        "color_data_string = \"\"\"\n",
        "Color Name 1\\t#FFFFFF\n",
        "Color Name 2\\t#000000\n",
        "\"\"\"\n",
        "color_dict = parse_colors_from_string(color_data_string)\n",
        "json_string = to_json(color_dict)\n",
        "print(json_string)\n",
        "\n"
      ],
      "metadata": {
        "colab": {
          "base_uri": "https://localhost:8080/"
        },
        "id": "1iOgacREVYoP",
        "outputId": "069d116a-4ff4-4ad6-9d39-1ecea9b4d3fa"
      },
      "execution_count": 5,
      "outputs": [
        {
          "output_type": "stream",
          "name": "stdout",
          "text": [
            "Drive already mounted at /content/drive; to attempt to forcibly remount, call drive.mount(\"/content/drive\", force_remount=True).\n",
            "Selected Color: Cadet Grey - RGB: (156, 168, 180)\n",
            "{\n",
            "    \"Color Name 1\": \"#FFFFFF\",\n",
            "    \"Color Name 2\": \"#000000\"\n",
            "}\n"
          ]
        }
      ]
    }
  ]
}